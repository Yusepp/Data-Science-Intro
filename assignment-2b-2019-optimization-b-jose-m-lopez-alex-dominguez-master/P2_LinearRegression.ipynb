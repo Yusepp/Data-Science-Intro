{
 "cells": [
  {
   "cell_type": "markdown",
   "metadata": {},
   "source": [
    "# Optimització - Linear regression"
   ]
  },
  {
   "cell_type": "markdown",
   "metadata": {},
   "source": [
    "En estadística, la **regressió lineal** és un enfocament lineal per modelar la relació entre una resposta escalar (o variable dependent) i una o més variables explicatives (o variables independents).\n",
    "\n",
    "En regressió lineal, les relacions es modelen mitjançant funcions lineals on els paràmetres del model s’estimen a partir de les dades. \n",
    "Aquests models s'anomenen models lineals. "
   ]
  },
  {
   "cell_type": "markdown",
   "metadata": {},
   "source": [
    "Suposem que treballem amb un conjunt de dades $ \\{y_{i}, x_{i_1}, \\ldots, x_{i_m} \\}_{i = 1}^{n}$ de $n$ unitats. \n",
    "\n",
    "Un **model de regressió lineal** assumeix que la relació entre la variable dependent $y$ i el vector $p$ dels regressors $x$ és lineal. \n",
    "Així, el model pren la forma:\n",
    "$${\\displaystyle y_{i}=\\beta _{0}+\\beta _{1}x_{i_1}+\\cdots +\\beta _{p}x_{i_p},\\qquad i=1,\\ldots ,n,}$$"
   ]
  },
  {
   "cell_type": "code",
   "execution_count": 1,
   "metadata": {},
   "outputs": [],
   "source": [
    "# Comprovem que autograd estigui instal·lat\n",
    "if __name__ == '__main__':\n",
    "    try:\n",
    "        import autograd\n",
    "    except:\n",
    "        print('No s\\'ha detectat autograd instal·lat')\n",
    "        if input('Vols instalar autograd? [s/n]').strip().lower() == 's':\n",
    "            !pip3 install --user -U autograd\n",
    "            !pip install --user -U autograd\n",
    "        else:\n",
    "            print('Abans de continuar instal·la autograd')"
   ]
  },
  {
   "cell_type": "code",
   "execution_count": 2,
   "metadata": {},
   "outputs": [],
   "source": [
    "from plot_utils import *\n",
    "\n",
    "import autograd.numpy as np\n",
    "from autograd import elementwise_grad as grad, value_and_grad\n",
    "import matplotlib.pyplot as plt\n",
    "import pandas as pd\n",
    "import random\n",
    "\n",
    "if __name__ == '__main__':\n",
    "    from IPython.display import display\n",
    "    \n",
    "    %matplotlib inline"
   ]
  },
  {
   "cell_type": "markdown",
   "metadata": {},
   "source": [
    "No es permet l'ús de cap llibreria o funció que no estigui ja importat, sigui aquí o més abaix en el notebook.\n",
    "\n",
    "Per Kaggle es permet l'ús d'altres llibreries/funcions sempre i quan únicament es facin servir pel processament de dades, i no pel model i/o predicció."
   ]
  },
  {
   "cell_type": "markdown",
   "metadata": {},
   "source": [
    "# AutoGrad\n",
    "\n",
    "En la part anterior, donada una funció havíem de definir també la funció que retorna el seu gradient.\n",
    "\n",
    "En aquesta pràctica, però, veurem que mitjançant l'ús de la llibreria **AutoGrad**, això no és necessari.\n",
    "\n",
    "Consideren les següents funcions:"
   ]
  },
  {
   "cell_type": "code",
   "execution_count": 3,
   "metadata": {},
   "outputs": [],
   "source": [
    "def f1(x):\n",
    "    return x**2\n",
    "\n",
    "def f2(x):\n",
    "    x, y = x[0], x[1]\n",
    "    return x**2 + y**2\n",
    "\n",
    "def f3(x):\n",
    "    x, y, z = x[0], x[1], x[2]\n",
    "    return (100 * (y - x**2)**2 + (1 - x)**2) + (100 * (z - y**2)**2 + (1 - y)**2)"
   ]
  },
  {
   "cell_type": "markdown",
   "metadata": {},
   "source": [
    "Donada la funció `f1`, podem fàcilment derivar el seu gradient, que és $2x$.\n",
    "\n",
    "Definim-lo manualment:"
   ]
  },
  {
   "cell_type": "code",
   "execution_count": 4,
   "metadata": {},
   "outputs": [],
   "source": [
    "def grad_f1_manual(x):\n",
    "    return 2*x"
   ]
  },
  {
   "cell_type": "markdown",
   "metadata": {},
   "source": [
    "Ara, obtinguem la funció gradient a partir d'autograd:"
   ]
  },
  {
   "cell_type": "code",
   "execution_count": 5,
   "metadata": {},
   "outputs": [],
   "source": [
    "grad_f1 = grad(f1)"
   ]
  },
  {
   "cell_type": "markdown",
   "metadata": {},
   "source": [
    "Podem comprovar que **les dues donen el mateix valor de gradient evaluat en un punt $x$**."
   ]
  },
  {
   "cell_type": "code",
   "execution_count": 6,
   "metadata": {},
   "outputs": [
    {
     "name": "stdout",
     "output_type": "stream",
     "text": [
      "Calcul manual gradient: df1'(x0) = 2046.0\n",
      "Autograd: df1'(x0) = 2046.0\n"
     ]
    }
   ],
   "source": [
    "x0 = np.asarray([1023.0])\n",
    "print('Calcul manual gradient: df1\\'(x0) = {}'.format(grad_f1_manual(x0)[0]))\n",
    "print('Autograd: df1\\'(x0) = {}'.format(grad_f1(x0)[0]))\n",
    "\n",
    "assert np.allclose(grad_f1_manual(x0), grad_f1(x0)) "
   ]
  },
  {
   "cell_type": "markdown",
   "metadata": {},
   "source": [
    "També podem utilitzar `value_and_grad` per obtenir directament amb la **imatge de la funció i el seu gradient en un punt $x$**:"
   ]
  },
  {
   "cell_type": "code",
   "execution_count": 7,
   "metadata": {},
   "outputs": [
    {
     "name": "stdout",
     "output_type": "stream",
     "text": [
      "(array([1046529.]), array([2046.]))\n"
     ]
    }
   ],
   "source": [
    "val_grad_f1 = value_and_grad(f1)\n",
    "print(val_grad_f1(x0))\n",
    "\n",
    "value, gradient = val_grad_f1(x0)\n",
    "assert np.allclose(value, f1(x0))\n",
    "assert np.allclose(gradient, grad_f1(x0))"
   ]
  },
  {
   "cell_type": "markdown",
   "metadata": {},
   "source": [
    "Inclús podem aplicar `grad` sobre un altre `grad` per obtenir la 2a derivada (o Hessià en multiples dimensions)."
   ]
  },
  {
   "cell_type": "code",
   "execution_count": 8,
   "metadata": {},
   "outputs": [
    {
     "data": {
      "image/png": "[encoded data removed]",
      "text/plain": [
       "<Figure size 432x288 with 1 Axes>"
      ]
     },
     "metadata": {
      "needs_background": "light"
     },
     "output_type": "display_data"
    }
   ],
   "source": [
    "grad_f1 = grad(f1) # df(x) = 2 * x\n",
    "grad2_f1 = grad(grad_f1) # d2f(x) = 2\n",
    "\n",
    "if __name__ == '__main__':\n",
    "    x = np.linspace(-5, 5, 100)\n",
    "    plt.plot(x, f1(x), label = 'f(x)')\n",
    "    plt.plot(x, grad_f1(x), color='green', label = 'df(x)')\n",
    "    plt.plot(x, grad2_f1(x), color='orange', label = 'd2f(x)')\n",
    "    plt.legend()"
   ]
  },
  {
   "cell_type": "markdown",
   "metadata": {},
   "source": [
    "# Descens del gradient"
   ]
  },
  {
   "cell_type": "markdown",
   "metadata": {},
   "source": [
    "**El primer pas serà implementar la mateixa funció `gradient_descend` que havieu fet en la part anterior, però ara mitjançant l'ús de la llibreria `autograd` i fent-la multidimensional.**\n",
    "\n",
    "Aquesta funció hauria d'executar sense problemes, i donar el mínim, per les tres funcions `f1`, `f2` i `f3` definides més adalt, de 1, 2 i 3 dimensions respectivament. Però, també haurà de funcionar per les següents parts de la pràctica, amb 100 o més dimensions."
   ]
  },
  {
   "cell_type": "code",
   "execution_count": 10,
   "metadata": {
    "scrolled": true
   },
   "outputs": [],
   "source": [
    "# Per utilitzar aquesta llibreria cal tenir instalar el paquet tqdm\n",
    "from tqdm import tqdm_notebook\n",
    "\n",
    "def human_format(num):\n",
    "    \"\"\"\n",
    "    Funció auxiliar per formatar els nombres\n",
    "\n",
    "    100    -> 100.00\n",
    "    2100   -> 2.10K\n",
    "    342100 -> 342.10K\n",
    "    etc.    \n",
    "    \n",
    "    :param num: Nombre a formatar\n",
    "    :return: String amb el nombre formatat\n",
    "    \"\"\"\n",
    "    magnitude = 0\n",
    "    while abs(num) >= 1000:\n",
    "        magnitude += 1\n",
    "        num /= 1000.0\n",
    "    return '%.2f%s' % (num, ['', 'K', 'M', 'G', 'T', 'P'][magnitude])\n",
    "\n",
    "def gradient_descend(f, x0, alpha, eps=1e-6, max_iter=1000, print_iters=1000):\n",
    "    \"\"\"\n",
    "    Aquesta funció implementa l'algorisme de descens pel gradient, és a dir,\n",
    "    donat un punt inicial, la funció de la que calculem el gradient i el pas, \n",
    "    intenta trobar el mínim de la funció seguint el gradient en direcció oposada.\n",
    "    \n",
    "    Pel criteri d'aturada, considerarem si ||x^{k+1} - x^k|| < eps, és a dir\n",
    "    si la norma de la diferència és més petita que eps.\n",
    "    \n",
    "    Cada print_iters cal mostrar el resultat actual en la següent forma:\n",
    "        \"{}/{:.2f}\".format(human_format(itr), float(valor_de_f_en_x))\n",
    "    És dir, un missatge que inclogui la iteració i el valor de f en el punt\n",
    "    \n",
    "    :param f: Funció a minimitzar\n",
    "    :param x0: Punt inicial\n",
    "    :param alpha: Pas de cada iteració\n",
    "    :param eps: Moviment mínim realitzat abans de parar\n",
    "    :param max_epochs: Iteracions màximes a realitzar\n",
    "    :param print_iters: Numero d'iteracions per printar resultats\n",
    "    :return: La funció retornarà el punt on es troba el mínim\n",
    "    \"\"\"\n",
    "    \n",
    "    \n",
    "    dim = len(x0)\n",
    "    x = [9999 for i in range(dim)]\n",
    "    it = 0\n",
    "   \n",
    "    grad_f = value_and_grad(f)\n",
    "    while(it != max_iter and np.linalg.norm(x-x0) > eps):\n",
    "        it += 1\n",
    "        x = x0\n",
    "        value,grad = grad_f(x0)\n",
    "        x0 = x0 - alpha * grad/np.linalg.norm(grad)\n",
    "        #if(it != print_iters):\n",
    "        if it % print_iters == 0:\n",
    "            print(\"{}/{:.7f}\".format(human_format(it), float(value)))\n",
    "    return x0\n"
   ]
  },
  {
   "cell_type": "markdown",
   "metadata": {},
   "source": [
    "<div style='background: #FCD02C; color: #333; padding: 20px; border-radius: 5px;'>\n",
    "    <div style='float: right; font-weight: bold;'>1/1.5</div>\n",
    "    En general bé, però heu d'imprimir cada print_iters iteracions (it % print_iters == 0).\n",
    "    Ho he modificat per poder corregir\n",
    "</div>"
   ]
  },
  {
   "cell_type": "markdown",
   "metadata": {},
   "source": [
    "Busquem el mínim de cadascuna de les funcions:"
   ]
  },
  {
   "cell_type": "code",
   "execution_count": 11,
   "metadata": {},
   "outputs": [
    {
     "name": "stdout",
     "output_type": "stream",
     "text": [
      "1.00K/0.0001000\n",
      "2.00K/0.0001000\n",
      "3.00K/0.0001000\n",
      "4.00K/0.0001000\n",
      "5.00K/0.0001000\n",
      "6.00K/0.0001000\n",
      "7.00K/0.0001000\n",
      "8.00K/0.0001000\n",
      "9.00K/0.0001000\n",
      "10.00K/0.0001000\n",
      "f1([4.09915157e-14]) = [1.68030436e-27]\n"
     ]
    }
   ],
   "source": [
    "if __name__ == '__main__':\n",
    "    x0 = np.array([4.0])\n",
    "    xm = gradient_descend(f1, x0, 0.01, 1e-6, 10000) # ~ @1s\n",
    "    print(f'f1({xm}) = {f1(xm)}')"
   ]
  },
  {
   "cell_type": "code",
   "execution_count": 12,
   "metadata": {},
   "outputs": [
    {
     "name": "stdout",
     "output_type": "stream",
     "text": [
      "1.00K/0.0000720\n",
      "2.00K/0.0000720\n",
      "3.00K/0.0000720\n",
      "4.00K/0.0000720\n",
      "5.00K/0.0000720\n",
      "6.00K/0.0000720\n",
      "7.00K/0.0000720\n",
      "8.00K/0.0000720\n",
      "9.00K/0.0000720\n",
      "10.00K/0.0000720\n",
      "f2([0.00093322 0.00118986]) = 2.2866558091025488e-06\n"
     ]
    }
   ],
   "source": [
    "if __name__ == '__main__':\n",
    "    x0 = np.array([4.0, 5.1])\n",
    "    xm = gradient_descend(f2, x0, 0.01, 1e-6, 10000) # ~ @1s\n",
    "    print(f'f2({xm}) = {f2(xm)}')"
   ]
  },
  {
   "cell_type": "code",
   "execution_count": 13,
   "metadata": {},
   "outputs": [
    {
     "name": "stdout",
     "output_type": "stream",
     "text": [
      "1.00K/1.6585780\n",
      "2.00K/1.4894350\n",
      "3.00K/1.3187887\n",
      "4.00K/1.1486532\n",
      "5.00K/0.9804545\n",
      "6.00K/0.8158860\n",
      "7.00K/0.6572474\n",
      "8.00K/0.5076763\n",
      "9.00K/0.3713098\n",
      "10.00K/0.2532025\n",
      "11.00K/0.1586013\n",
      "12.00K/0.0911087\n",
      "13.00K/0.0500864\n",
      "14.00K/0.0296254\n",
      "15.00K/0.0213328\n",
      "16.00K/0.0185279\n",
      "17.00K/0.0176961\n",
      "18.00K/0.0174691\n",
      "19.00K/0.0174099\n",
      "20.00K/0.0173949\n",
      "21.00K/0.0173911\n",
      "22.00K/0.0173902\n",
      "23.00K/0.0173899\n",
      "24.00K/0.0173899\n",
      "25.00K/0.0173899\n",
      "26.00K/0.0173899\n",
      "27.00K/0.0173899\n",
      "28.00K/0.0173899\n",
      "29.00K/0.0173899\n",
      "30.00K/0.0173899\n",
      "31.00K/0.0173899\n",
      "32.00K/0.0173899\n",
      "33.00K/0.0173899\n",
      "34.00K/0.0173899\n",
      "35.00K/0.0173899\n",
      "36.00K/0.0173899\n",
      "37.00K/0.0173899\n",
      "38.00K/0.0173899\n",
      "39.00K/0.0173899\n",
      "40.00K/0.0173899\n",
      "41.00K/0.0173899\n",
      "42.00K/0.0173899\n",
      "43.00K/0.0173899\n",
      "44.00K/0.0173899\n",
      "45.00K/0.0173899\n",
      "46.00K/0.0173899\n",
      "47.00K/0.0173899\n",
      "48.00K/0.0173899\n",
      "49.00K/0.0173899\n",
      "50.00K/0.0173899\n",
      "f3([0.99870267 0.98805617 0.98553371]) = 0.01749763783777658\n"
     ]
    }
   ],
   "source": [
    "if __name__ == '__main__':\n",
    "    x0 = np.array([4.0, 5.1, 4.4])\n",
    "    xm = gradient_descend(f3, x0, 0.01, 1e-6, 50000) # ~ @30s\n",
    "    print(f'f3({xm}) = {f3(xm)}')"
   ]
  },
  {
   "cell_type": "markdown",
   "metadata": {},
   "source": [
    "# Linear regression\n",
    "\n",
    "Cas simple: **Donat un conjunt de punts (X, Y) 2D, podem trobar la recta que minimitza la distància entre aquesta i tots els punts?**\n",
    "\n",
    "Recordatori: \n",
    "\n",
    "Per tal de definir una recta necesitem dos punts $(x_0, y_0)$ i $(x_1, y_1)$. A partir d'aquests dos punts podem definir la recta com:\n",
    "\n",
    "$$y={\\frac {y_{1}-y_{0}}{x_{1}-x_{0}}} (x-x_{0}) +y_{0} = m \\cdot x + n$$"
   ]
  },
  {
   "cell_type": "code",
   "execution_count": 14,
   "metadata": {},
   "outputs": [
    {
     "data": {
      "text/html": [
       "<div>\n",
       "<style scoped>\n",
       "    .dataframe tbody tr th:only-of-type {\n",
       "        vertical-align: middle;\n",
       "    }\n",
       "\n",
       "    .dataframe tbody tr th {\n",
       "        vertical-align: top;\n",
       "    }\n",
       "\n",
       "    .dataframe thead th {\n",
       "        text-align: right;\n",
       "    }\n",
       "</style>\n",
       "<table border=\"1\" class=\"dataframe\">\n",
       "  <thead>\n",
       "    <tr style=\"text-align: right;\">\n",
       "      <th></th>\n",
       "      <th>X</th>\n",
       "      <th>Y</th>\n",
       "    </tr>\n",
       "  </thead>\n",
       "  <tbody>\n",
       "    <tr>\n",
       "      <th>0</th>\n",
       "      <td>6.2</td>\n",
       "      <td>29</td>\n",
       "    </tr>\n",
       "    <tr>\n",
       "      <th>1</th>\n",
       "      <td>9.5</td>\n",
       "      <td>44</td>\n",
       "    </tr>\n",
       "    <tr>\n",
       "      <th>2</th>\n",
       "      <td>10.5</td>\n",
       "      <td>36</td>\n",
       "    </tr>\n",
       "    <tr>\n",
       "      <th>3</th>\n",
       "      <td>7.7</td>\n",
       "      <td>37</td>\n",
       "    </tr>\n",
       "    <tr>\n",
       "      <th>4</th>\n",
       "      <td>8.6</td>\n",
       "      <td>53</td>\n",
       "    </tr>\n",
       "  </tbody>\n",
       "</table>\n",
       "</div>"
      ],
      "text/plain": [
       "      X   Y\n",
       "0   6.2  29\n",
       "1   9.5  44\n",
       "2  10.5  36\n",
       "3   7.7  37\n",
       "4   8.6  53"
      ]
     },
     "metadata": {},
     "output_type": "display_data"
    },
    {
     "data": {
      "image/png": "[encoded data removed]",
      "text/plain": [
       "<Figure size 720x720 with 1 Axes>"
      ]
     },
     "metadata": {
      "needs_background": "light"
     },
     "output_type": "display_data"
    }
   ],
   "source": [
    "if __name__ == '__main__':\n",
    "    # Lectura de les dades\n",
    "    df = pd.read_csv('data/slr05.csv', index_col=0)\n",
    "    display(df.head())\n",
    "\n",
    "    # Visualització de les dades\n",
    "    plt.figure(figsize = (10, 10))\n",
    "    plt.scatter(df['X'], df['Y'])\n",
    "    plt.xlabel('Fires per 1000 housing units')\n",
    "    plt.ylabel('Thefts per 1000 population')\n",
    "    plt.title('Fire and Theft in Chicago')\n",
    "\n",
    "    # Possibles linies\n",
    "    # Parametres plt.plot: (x0, x1), (y0, y1)\n",
    "    plt.plot((0, 40), (0, 140), color='#ff0000')\n",
    "    plt.plot((0, 40), (0, 120), color='#ff0000')\n",
    "    plt.plot((0, 40), (10, 110), color='#ff0000')\n",
    "    plt.plot((0, 40), (20, 70), color='#ff0000')"
   ]
  },
  {
   "cell_type": "markdown",
   "metadata": {},
   "source": [
    "Per ara, donat que estem a 2D, podem visualitzar l'error, és a dir la distància respecte aquesta recta. Però tot i així és impossible que poguem visualitzar, d'entre les infinites línies possibles, la que s'ajusta millor a les dades.\n",
    "\n",
    "**Necessitem un algorisme que la trobi automàticament,** però primer visualitzem l'error de cadascuna de les anteriors rectes:"
   ]
  },
  {
   "cell_type": "code",
   "execution_count": 15,
   "metadata": {},
   "outputs": [
    {
     "data": {
      "image/png": "[encoded data removed]",
      "text/plain": [
       "<Figure size 432x288 with 1 Axes>"
      ]
     },
     "metadata": {
      "needs_background": "light"
     },
     "output_type": "display_data"
    },
    {
     "data": {
      "image/png": "[encoded data removed]",
      "text/plain": [
       "<Figure size 432x288 with 1 Axes>"
      ]
     },
     "metadata": {
      "needs_background": "light"
     },
     "output_type": "display_data"
    },
    {
     "data": {
      "image/png": "[encoded data removed]",
      "text/plain": [
       "<Figure size 432x288 with 1 Axes>"
      ]
     },
     "metadata": {
      "needs_background": "light"
     },
     "output_type": "display_data"
    },
    {
     "data": {
      "image/png": "[encoded data removed]",
      "text/plain": [
       "<Figure size 432x288 with 1 Axes>"
      ]
     },
     "metadata": {
      "needs_background": "light"
     },
     "output_type": "display_data"
    }
   ],
   "source": [
    "if __name__ == '__main__':\n",
    "    for x1, y1, y0 in ((40, 140, 0), (40, 120, 0), (40, 110, 10), (40, 70, 20)):\n",
    "        plt.figure()\n",
    "        # Visualització de les dades\n",
    "        plt.scatter(df['X'], df['Y'])\n",
    "        plt.xlabel('Fires per 1000 housing units')\n",
    "        plt.ylabel('Thefts per 1000 population')\n",
    "        plt.title(f'Fire and Theft in Chicago, y = {y0} + x * {(y1 - y0) / x1:.2f}')\n",
    "\n",
    "        # Visualització de la recta\n",
    "        plt.plot((0, x1), (y0, y1), color='#ff0000')\n",
    "\n",
    "        # Definció de la recta\n",
    "        f = lambda x: (y1 - y0) / x1 * x + y0\n",
    "\n",
    "        # Visualització de l'error per cada punt\n",
    "        for _, (x, y) in df.iterrows():\n",
    "            y_pred = f(x)\n",
    "            plt.plot((x, x), (y, y_pred), color='b', alpha=0.2)"
   ]
  },
  {
   "cell_type": "markdown",
   "metadata": {},
   "source": [
    "**Com definim un model que automàticament trobi aquesta recta?**\n",
    "\n",
    "Primer de tot, assumim que nosaltres tenim unes dades de les quals dispossem els valors de $x$ i els corresponents valors de $y$. Per exemple, les dades anteriors.\n",
    "\n",
    "1. Necessitem definir matemàticament una recta\n",
    "$$ r: \\hat{y} = m \\cdot x + n $$\n",
    "On $x$ és un punt que volem evaluar, $\\hat{y}$ és la imatge obtinguda en el punt $x$, i $m$, $n$ són els paràmetres que defineixen la recta. Idealment, voldríem trobar aquelles $m$, $n$ que, per tot punt $x$ tinguéssim una $\\hat{y}$ tal que $\\hat{y}=y$.\n",
    "\n",
    "2. Hem de mesurar l'error que estem cometent cada cop que provem una $m$, $n$ diferents (al que anomenarem *loss* del model). Per exemple, podríem definir l'error com a la distància entre el punt $y$ que hauria de ser i el $\\hat{y}$ que ens dona el model:\n",
    "$$\\mathbb{L} = \\sqrt{(y - \\hat{y})^2}$$\n",
    "\n",
    "3. Ara el que volem fer és trobar els valors de $m$, $n$ tal que $\\mathbb{L}=0$. Si parem atenció a la funció definida per $\\mathbb{L}$, veurem que efectivament $0$ és el mínim d'aquesta. Per tant, tot el que hem de fer és minimitzar la funció definida per\n",
    "$$\\mathbb{L} = \\sqrt{(y - (m \\cdot x + n))^2}$$\n",
    "\n",
    "Per simplificar una mica el problema, unirem les variables que volem optimitzar $m,n$ en una de sola: $w$. Per fer-ho, expandirem la fòrmula anterior a:\n",
    "$$\\tilde{x} = (1, x), w = (n, m)$$\n",
    "\n",
    "$$\\mathbb{L} = \\sqrt{(y - \\tilde{x} \\cdot w)^2}$$\n",
    "\n",
    "On $\\tilde{x}$ és un vector format per un $1$ i a continuació el valor de $x$ original. De forma que $\\tilde{x} \\cdot w = (1, x) \\cdot (n, m) = n + x\\cdot m = m\\cdot x + n$ (producte escalar)."
   ]
  },
  {
   "cell_type": "code",
   "execution_count": 62,
   "metadata": {},
   "outputs": [],
   "source": [
    "def add_bias(X):\n",
    "    \"\"\"\n",
    "    Funció que donada el vector x crea el vector x', afegint una columna d'1's al davant.\n",
    "    Per exemple, si X és\n",
    "        [\n",
    "            [1, 2, 5, 1, 5, 7],\n",
    "            [9, 4, 2, 4, 6, 1],\n",
    "            ...\n",
    "            [5, 3, 1, 4, 5, 7]\n",
    "        ]\n",
    "    El retorn de la funció serà la matriu\n",
    "        [\n",
    "            [1, 1, 2, 5, 1, 5, 7],\n",
    "            [1, 9, 4, 2, 4, 6, 1],\n",
    "            ...\n",
    "            [1, 5, 3, 1, 4, 5, 7]\n",
    "        ]\n",
    "    \n",
    "    *Sense bucles*\n",
    "    \n",
    "    :param X: Matriu on cada fila és una dada i cada columna una característica\n",
    "    :return: Mateixa matriu amb una columna de 1s davant\n",
    "    \"\"\"\n",
    "    return np.insert(X,0,1,axis=1)\n",
    "\n",
    "def linear_regression(x, w):\n",
    "    \"\"\"\n",
    "    Donat un punt i els parameters del model prediu el valor, implementant el càlcul de\n",
    "    la regressió lineal:\n",
    "            y' = w0 * x0 + w1 * x1 + ... + xp * wp\n",
    "            \n",
    "    *Sense bucles*\n",
    "    \n",
    "    :param x: Matriu de dades i features, on la primera columna son 1s, té per shape [NDades, NFeatures]\n",
    "    :param w: Matriu de paràmetres, té per shape [1, NFeatures]\n",
    "    :return: Vector de tamany [NDades] amb la predicció y' per a cada punt\n",
    "    \"\"\"\n",
    "    return np.dot(x,w.T)\n",
    "\n",
    "def loss(y_true, y_pred):\n",
    "    \"\"\"\n",
    "    Funció que calcula la diferència entre la solució real i la predita mitjançant\n",
    "    distància euclidea\n",
    "        ||y_true - y_pred||\n",
    "        \n",
    "    :param y_true: Valor real de la Y\n",
    "    :param y_pred: Valor predit y' per a cada corresponent y\n",
    "    :return: Error de la predicció\n",
    "    \"\"\"\n",
    "    return np.linalg.norm(y_true-y_pred)\n",
    "\n",
    "def model(w, x, y):\n",
    "    \"\"\"\n",
    "    Funció que genera el model que volem optimizar, calculant l'error d'una\n",
    "    predicció amb els pàrametres i valors passats\n",
    "    \n",
    "    :param w: Paràmetres del model\n",
    "    :param x: Dades del model\n",
    "    :param y: Valors a predir\n",
    "    :return: Error (loss) de les preddiccions\n",
    "    \"\"\"\n",
    "    return loss(y, linear_regression(x, w))"
   ]
  },
  {
   "cell_type": "markdown",
   "metadata": {},
   "source": [
    "<div style='background: #FCD02C; color: #333; padding: 20px; border-radius: 5px;'>\n",
    "    <div style='float: right; font-weight: bold;'>2/3</div>\n",
    "    Amb el dot product que feu, la dimensió resultant és diferent a la de la Y, fent que al final us quedi una matriu en la funció loss, i minimitzi erròniament\n",
    "</div>"
   ]
  },
  {
   "cell_type": "markdown",
   "metadata": {},
   "source": [
    "Generem les dades que utilitzarem per entrenar el model (*X_fire*) i les seves etiquetes (*Y_fire*)."
   ]
  },
  {
   "cell_type": "code",
   "execution_count": 63,
   "metadata": {},
   "outputs": [],
   "source": [
    "if __name__ == '__main__':\n",
    "    X_fire = df['X'].values[:, np.newaxis]\n",
    "    X_fire = add_bias(X_fire)\n",
    "    Y_fire = df['Y'].values"
   ]
  },
  {
   "cell_type": "markdown",
   "metadata": {},
   "source": [
    "Per optimizar el model, necesitem initcialitzar els seus pesos amb valors random."
   ]
  },
  {
   "cell_type": "code",
   "execution_count": 64,
   "metadata": {},
   "outputs": [
    {
     "name": "stdout",
     "output_type": "stream",
     "text": [
      "1.00K/2016.5871593\n",
      "2.00K/1561.0054568\n",
      "3.00K/1302.9325670\n",
      "4.00K/1271.2417176\n",
      "5.00K/1254.7623648\n",
      "6.00K/1238.5774259\n",
      "7.00K/1222.6985927\n",
      "8.00K/1207.1379448\n",
      "9.00K/1191.9079442\n",
      "10.00K/1177.0214262\n",
      "11.00K/1162.4915864\n",
      "12.00K/1148.3319641\n",
      "13.00K/1134.5564206\n",
      "14.00K/1121.1791133\n",
      "15.00K/1108.2144634\n",
      "16.00K/1095.6771196\n",
      "17.00K/1083.5819141\n",
      "18.00K/1071.9438134\n",
      "19.00K/1060.7778628\n",
      "20.00K/1050.0991239\n",
      "[[16.47317819  0.86605548]]\n"
     ]
    }
   ],
   "source": [
    "if __name__ == '__main__':\n",
    "    # Parametres per defecte del model\n",
    "    w0 = np.random.normal(size=(1, X_fire.shape[1]))\n",
    "\n",
    "    # Optimització del model\n",
    "    wf_fire = gradient_descend(lambda w: model(w, X_fire, Y_fire), w0, 0.001, max_iter=20000, print_iters=1000) # ~ @5s\n",
    "    print(wf_fire)"
   ]
  },
  {
   "cell_type": "markdown",
   "metadata": {},
   "source": [
    "Visualització de la recta obtinguda amb el model i els errors de les seves prediccions."
   ]
  },
  {
   "cell_type": "code",
   "execution_count": 65,
   "metadata": {},
   "outputs": [
    {
     "name": "stdout",
     "output_type": "stream",
     "text": [
      "Mean error: 15.73\n"
     ]
    },
    {
     "data": {
      "image/png": "[encoded data removed]",
      "text/plain": [
       "<Figure size 432x288 with 1 Axes>"
      ]
     },
     "metadata": {
      "needs_background": "light"
     },
     "output_type": "display_data"
    }
   ],
   "source": [
    "if __name__ == '__main__':\n",
    "    plt.figure()\n",
    "    # Visualització de les dades\n",
    "    plt.scatter(df['X'], df['Y'])\n",
    "    plt.xlabel('fires per 1000 housing units')\n",
    "    plt.ylabel('thefts per 1000 population')\n",
    "    plt.title('Fire and Theft in Chicago')\n",
    "\n",
    "    # Visualització de la recta\n",
    "    # Parametres plt.plot: (x0, x1), (y0, y1)\n",
    "    plt.plot((0, 40), (wf_fire[0, 0], linear_regression((1, 40), wf_fire)), color='#ff0000')\n",
    "\n",
    "    # Visualització de l'error a cada punt\n",
    "    for _, (x, y) in df.iterrows():\n",
    "        y_pred = linear_regression((1, x), wf_fire)\n",
    "        plt.plot((x, x), (y, y_pred), color='b', alpha=0.2)\n",
    "\n",
    "    y_fire_pred = linear_regression(X_fire, wf_fire)\n",
    "    print('Mean error: {:.2f}'.format(np.mean(np.abs(Y_fire - y_fire_pred))))"
   ]
  },
  {
   "cell_type": "markdown",
   "metadata": {},
   "source": [
    "# Dades multidimensionals sobre les dades\n",
    "\n",
    "En l'apartat anterior tenim un sol valor de $x$ pel qual volíem obtenir un valor de $y$, però en la gran majoria de casos no serà així.\n",
    "\n",
    "En aquest apartat volem trobar una regressió lineal tal que $dim(X) = 6$, i per tant necessitem un total de 7 paràmetres ($dim(w) = 7$)"
   ]
  },
  {
   "cell_type": "code",
   "execution_count": 66,
   "metadata": {},
   "outputs": [
    {
     "data": {
      "text/html": [
       "<div>\n",
       "<style scoped>\n",
       "    .dataframe tbody tr th:only-of-type {\n",
       "        vertical-align: middle;\n",
       "    }\n",
       "\n",
       "    .dataframe tbody tr th {\n",
       "        vertical-align: top;\n",
       "    }\n",
       "\n",
       "    .dataframe thead th {\n",
       "        text-align: right;\n",
       "    }\n",
       "</style>\n",
       "<table border=\"1\" class=\"dataframe\">\n",
       "  <thead>\n",
       "    <tr style=\"text-align: right;\">\n",
       "      <th></th>\n",
       "      <th>Total population (in thousands)</th>\n",
       "      <th>% Change in population</th>\n",
       "      <th>% Change in children</th>\n",
       "      <th>% Free school lunch</th>\n",
       "      <th>% change in household income</th>\n",
       "      <th>Crime rate</th>\n",
       "      <th>% change in crime rate</th>\n",
       "    </tr>\n",
       "  </thead>\n",
       "  <tbody>\n",
       "    <tr>\n",
       "      <th>0</th>\n",
       "      <td>6.9</td>\n",
       "      <td>1.8</td>\n",
       "      <td>30.2</td>\n",
       "      <td>58.3</td>\n",
       "      <td>27.3</td>\n",
       "      <td>84.9</td>\n",
       "      <td>-14.2</td>\n",
       "    </tr>\n",
       "    <tr>\n",
       "      <th>1</th>\n",
       "      <td>8.4</td>\n",
       "      <td>28.5</td>\n",
       "      <td>38.8</td>\n",
       "      <td>87.5</td>\n",
       "      <td>39.8</td>\n",
       "      <td>172.6</td>\n",
       "      <td>-34.1</td>\n",
       "    </tr>\n",
       "    <tr>\n",
       "      <th>2</th>\n",
       "      <td>5.7</td>\n",
       "      <td>7.8</td>\n",
       "      <td>31.7</td>\n",
       "      <td>83.5</td>\n",
       "      <td>26.0</td>\n",
       "      <td>154.2</td>\n",
       "      <td>-15.8</td>\n",
       "    </tr>\n",
       "    <tr>\n",
       "      <th>3</th>\n",
       "      <td>7.4</td>\n",
       "      <td>2.3</td>\n",
       "      <td>24.2</td>\n",
       "      <td>14.2</td>\n",
       "      <td>29.4</td>\n",
       "      <td>35.2</td>\n",
       "      <td>-13.9</td>\n",
       "    </tr>\n",
       "    <tr>\n",
       "      <th>4</th>\n",
       "      <td>8.5</td>\n",
       "      <td>-0.7</td>\n",
       "      <td>28.1</td>\n",
       "      <td>46.7</td>\n",
       "      <td>26.6</td>\n",
       "      <td>69.2</td>\n",
       "      <td>-13.9</td>\n",
       "    </tr>\n",
       "  </tbody>\n",
       "</table>\n",
       "</div>"
      ],
      "text/plain": [
       "   Total population (in thousands)  % Change in population  \\\n",
       "0                              6.9                     1.8   \n",
       "1                              8.4                    28.5   \n",
       "2                              5.7                     7.8   \n",
       "3                              7.4                     2.3   \n",
       "4                              8.5                    -0.7   \n",
       "\n",
       "   % Change in children  % Free school lunch  % change in household income  \\\n",
       "0                  30.2                 58.3                          27.3   \n",
       "1                  38.8                 87.5                          39.8   \n",
       "2                  31.7                 83.5                          26.0   \n",
       "3                  24.2                 14.2                          29.4   \n",
       "4                  28.1                 46.7                          26.6   \n",
       "\n",
       "   Crime rate  % change in crime rate  \n",
       "0        84.9                   -14.2  \n",
       "1       172.6                   -34.1  \n",
       "2       154.2                   -15.8  \n",
       "3        35.2                   -13.9  \n",
       "4        69.2                   -13.9  "
      ]
     },
     "metadata": {},
     "output_type": "display_data"
    }
   ],
   "source": [
    "if __name__ == '__main__':\n",
    "    # Lectura de les dades\n",
    "    dg = pd.read_csv('data/mlr10.csv', index_col=0)\n",
    "    Y_pop = dg.values[:, 0]\n",
    "    X_pop = dg.values[:, 1:]\n",
    "    X_pop = add_bias(X_pop)\n",
    "    display(dg.head())"
   ]
  },
  {
   "cell_type": "code",
   "execution_count": 67,
   "metadata": {},
   "outputs": [
    {
     "name": "stdout",
     "output_type": "stream",
     "text": [
      "1.00K/862.8652295\n",
      "2.00K/278.7819362\n",
      "3.00K/163.0247066\n",
      "4.00K/161.8368141\n",
      "5.00K/161.7567008\n",
      "6.00K/161.7229916\n",
      "7.00K/161.6913463\n",
      "8.00K/161.6599192\n",
      "9.00K/161.6286329\n",
      "10.00K/161.5974837\n",
      "11.00K/161.5664708\n",
      "12.00K/161.5355936\n",
      "13.00K/161.5048516\n",
      "14.00K/161.4742442\n",
      "15.00K/161.4437709\n",
      "16.00K/161.4134311\n",
      "17.00K/161.3832242\n",
      "18.00K/161.3531497\n",
      "19.00K/161.3232070\n",
      "20.00K/161.2933955\n",
      "21.00K/161.2637148\n",
      "22.00K/161.2341642\n",
      "23.00K/161.2047432\n",
      "24.00K/161.1754512\n",
      "25.00K/161.1462878\n",
      "26.00K/161.1172524\n",
      "27.00K/161.0883444\n",
      "28.00K/161.0595633\n",
      "29.00K/161.0309086\n",
      "30.00K/161.0023797\n",
      "31.00K/160.9739760\n",
      "32.00K/160.9456972\n",
      "33.00K/160.9175426\n",
      "34.00K/160.8895117\n",
      "35.00K/160.8616040\n",
      "36.00K/160.8338190\n",
      "37.00K/160.8061562\n",
      "38.00K/160.7786149\n",
      "39.00K/160.7511948\n",
      "40.00K/160.7238953\n",
      "41.00K/160.6967159\n",
      "42.00K/160.6696561\n",
      "43.00K/160.6427154\n",
      "44.00K/160.6158933\n",
      "45.00K/160.5891892\n",
      "46.00K/160.5626027\n",
      "47.00K/160.5361333\n",
      "48.00K/160.5097804\n",
      "49.00K/160.4835437\n",
      "50.00K/160.4574225\n",
      "51.00K/160.4314164\n",
      "52.00K/160.4055249\n",
      "53.00K/160.3797476\n",
      "54.00K/160.3540839\n",
      "55.00K/160.3285333\n",
      "56.00K/160.3030954\n",
      "57.00K/160.2777697\n",
      "58.00K/160.2525557\n",
      "59.00K/160.2274530\n",
      "60.00K/160.2024610\n",
      "61.00K/160.1775793\n",
      "62.00K/160.1528074\n",
      "63.00K/160.1281449\n",
      "64.00K/160.1035912\n",
      "65.00K/160.0791460\n",
      "66.00K/160.0548087\n",
      "67.00K/160.0305790\n",
      "68.00K/160.0064562\n",
      "69.00K/159.9824401\n",
      "70.00K/159.9585300\n",
      "71.00K/159.9347257\n",
      "72.00K/159.9110266\n",
      "73.00K/159.8874322\n",
      "74.00K/159.8639421\n",
      "75.00K/159.8405560\n",
      "76.00K/159.8172732\n",
      "77.00K/159.7940935\n",
      "78.00K/159.7710163\n",
      "79.00K/159.7480412\n",
      "80.00K/159.7251677\n",
      "81.00K/159.7023955\n",
      "82.00K/159.6797241\n",
      "83.00K/159.6571531\n",
      "84.00K/159.6346819\n",
      "85.00K/159.6123103\n",
      "86.00K/159.5900378\n",
      "87.00K/159.5678640\n",
      "88.00K/159.5457883\n",
      "89.00K/159.5238105\n",
      "90.00K/159.5019300\n",
      "91.00K/159.4801466\n",
      "92.00K/159.4584596\n",
      "93.00K/159.4368688\n",
      "94.00K/159.4153738\n",
      "95.00K/159.3939740\n",
      "96.00K/159.3726692\n",
      "97.00K/159.3514588\n",
      "98.00K/159.3303425\n",
      "99.00K/159.3093199\n",
      "100.00K/159.2883906\n",
      "[[ 2.00199852e+00 -1.82120555e-02  8.92882988e-02 -9.31287868e-03\n",
      "   9.69244994e-02  1.30204278e-03 -1.89731047e-02]]\n"
     ]
    }
   ],
   "source": [
    "if __name__ == '__main__':\n",
    "    # Parametres per defecte del model\n",
    "    w0 = np.random.normal(size=(1, X_pop.shape[1]))\n",
    "\n",
    "    # Optimització del model\n",
    "    wf_population = gradient_descend(lambda w: model(w, X_pop, Y_pop), w0, 0.001, max_iter=100000, print_iters=1000) # ~ @20s\n",
    "    print(wf_population)"
   ]
  },
  {
   "cell_type": "code",
   "execution_count": 68,
   "metadata": {},
   "outputs": [],
   "source": [
    "if __name__ == '__main__':\n",
    "    # Utilitzant els paràmetres apresos, obtenim la predicció per a cada punt\n",
    "    y_pop_pred = linear_regression(X_pop, wf_population)"
   ]
  },
  {
   "cell_type": "code",
   "execution_count": 69,
   "metadata": {},
   "outputs": [
    {
     "name": "stdout",
     "output_type": "stream",
     "text": [
      "Mean error: 2.87\n"
     ]
    },
    {
     "data": {
      "image/png": "[encoded data removed]",
      "text/plain": [
       "<Figure size 1440x216 with 1 Axes>"
      ]
     },
     "metadata": {
      "needs_background": "light"
     },
     "output_type": "display_data"
    }
   ],
   "source": [
    "if __name__ == '__main__':\n",
    "    # Visualització de les dades originals i les prediccions\n",
    "    plt.figure(figsize=(20, 3))\n",
    "    plt.scatter(range(Y_pop.shape[0]), Y_pop, color='green', label = 'y')\n",
    "    plt.scatter(range(Y_pop.shape[0]), y_pop_pred, color='red', label = 'y_pred')\n",
    "    plt.xlabel('Samples')\n",
    "    plt.ylabel('Total population')\n",
    "    plt.legend()\n",
    "\n",
    "    for x in range(X_pop.shape[0]):\n",
    "        plt.plot((x, x), (0, 20), '-.', color='gray', alpha=0.2)\n",
    "\n",
    "    print('Mean error: {:.2f}'.format(np.mean(np.abs(Y_pop - y_pop_pred))))"
   ]
  },
  {
   "cell_type": "markdown",
   "metadata": {},
   "source": [
    "# Airbnb: dades reals (a baixa escala)\n",
    "\n",
    "### Airbnb Dataset\n",
    "\n",
    "Les dades amb les que treballarem en aquesta pràctica són dades reals recopilades per *Airbnb*. \n",
    "Aquestes analitzen la informació disponible sobre els llistats d’Airbnb d’una ciutat, proporcionant filtres i mètriques clau perquè pugueu veure com Airbnb s’utilitza per competir amb el mercat d’habitatges residencials.\n",
    "\n",
    "Amb aquestes dades podrieu fer preguntes fonamentals sobre Airbnb a qualsevol barri o a tota la ciutat. Preguntes com:\n",
    "\n",
    "- \"Quants fitxes hi ha al meu barri i on són?\"\n",
    "- \"Quantes cases i apartaments es lloguen amb freqüència a turistes i no a residents a llarg termini?\"\n",
    "- \"Quant costen els hostes des del lloguer als turistes (compareu-ho amb els lloguers a llarg termini)?\"\n",
    "- \"Quins amfitrions tenen una empresa amb diversos llistats i on?\"\n",
    "\n",
    "Les dades inclou dades com:\n",
    "- Quantitat de nits que es lloga una vivenda a l'any.\n",
    "- Estades mínimes.\n",
    "- Quantes habitacions es lloguen en un edifici.\n",
    "- Nombre d’ocupats permesos en un lloguer.\n",
    "\n",
    "En el nostre cas, **volem predir el preu de la vivenda utilitzant el resum donat.**"
   ]
  },
  {
   "cell_type": "code",
   "execution_count": 70,
   "metadata": {},
   "outputs": [],
   "source": [
    "import zipfile\n",
    "from os.path import join, dirname\n",
    "\n",
    "def locate(*path):\n",
    "    base = globals().get('__file__', '.')\n",
    "    return join(dirname(base), *path)\n",
    "\n",
    "def unzip(file):\n",
    "    zip_ref = zipfile.ZipFile(locate(file), 'r')\n",
    "    zip_ref.extractall(locate('data'))\n",
    "    zip_ref.close()\n",
    "\n",
    "def clean(s):\n",
    "    try:\n",
    "        s = s.replace('O', '0').replace(',', '').replace('$', '')\n",
    "        return np.float(s.split()[0])\n",
    "    except:\n",
    "        return np.nan\n",
    "\n",
    "def tobool(s):\n",
    "    return s == 't'\n",
    "\n",
    "if __name__ == '__main__':\n",
    "    def open_airbnb_data(file):\n",
    "        unzip(f'{file}.zip')\n",
    "        \n",
    "        return pd.read_csv(f'data/{file}.csv',\n",
    "            converters={\n",
    "                'zipcode': clean,\n",
    "                'price': clean,\n",
    "                'weekly_price': clean,\n",
    "                'monthly_price': clean,\n",
    "                'host_is_superhost': tobool,\n",
    "                'host_identity_verified': tobool,\n",
    "                'host_has_profile_pic': tobool,\n",
    "                'is_location_exact': tobool,\n",
    "                'has_availability': tobool,\n",
    "                'requires_license': tobool,\n",
    "                'instant_bookable': tobool,\n",
    "                'is_business_travel_ready': tobool,\n",
    "                'require_guest_profile_picture': tobool,\n",
    "                'require_guest_phone_verification': tobool,\n",
    "                'summary': lambda s: s or ''\n",
    "            }\n",
    "        )\n",
    "    \n",
    "    \n",
    "    df_airbnb = open_airbnb_data('data_public')"
   ]
  },
  {
   "cell_type": "code",
   "execution_count": 71,
   "metadata": {},
   "outputs": [
    {
     "data": {
      "text/html": [
       "<div>\n",
       "<style scoped>\n",
       "    .dataframe tbody tr th:only-of-type {\n",
       "        vertical-align: middle;\n",
       "    }\n",
       "\n",
       "    .dataframe tbody tr th {\n",
       "        vertical-align: top;\n",
       "    }\n",
       "\n",
       "    .dataframe thead th {\n",
       "        text-align: right;\n",
       "    }\n",
       "</style>\n",
       "<table border=\"1\" class=\"dataframe\">\n",
       "  <thead>\n",
       "    <tr style=\"text-align: right;\">\n",
       "      <th></th>\n",
       "      <th>Unnamed: 0</th>\n",
       "      <th>id</th>\n",
       "      <th>listing_url</th>\n",
       "      <th>scrape_id</th>\n",
       "      <th>last_scraped</th>\n",
       "      <th>name</th>\n",
       "      <th>summary</th>\n",
       "      <th>space</th>\n",
       "      <th>description</th>\n",
       "      <th>experiences_offered</th>\n",
       "      <th>...</th>\n",
       "      <th>instant_bookable</th>\n",
       "      <th>is_business_travel_ready</th>\n",
       "      <th>cancellation_policy</th>\n",
       "      <th>require_guest_profile_picture</th>\n",
       "      <th>require_guest_phone_verification</th>\n",
       "      <th>calculated_host_listings_count</th>\n",
       "      <th>calculated_host_listings_count_entire_homes</th>\n",
       "      <th>calculated_host_listings_count_private_rooms</th>\n",
       "      <th>calculated_host_listings_count_shared_rooms</th>\n",
       "      <th>reviews_per_month</th>\n",
       "    </tr>\n",
       "  </thead>\n",
       "  <tbody>\n",
       "    <tr>\n",
       "      <th>0</th>\n",
       "      <td>0</td>\n",
       "      <td>18666</td>\n",
       "      <td>https://www.airbnb.com/rooms/18666</td>\n",
       "      <td>20190917034823</td>\n",
       "      <td>2019-09-17</td>\n",
       "      <td>Flat with Sunny Terrace</td>\n",
       "      <td>Apartment located near the \"Plaza de las Glori...</td>\n",
       "      <td>Nice apartment situated on the penthouse floor...</td>\n",
       "      <td>Apartment located near the \"Plaza de las Glori...</td>\n",
       "      <td>none</td>\n",
       "      <td>...</td>\n",
       "      <td>False</td>\n",
       "      <td>False</td>\n",
       "      <td>flexible</td>\n",
       "      <td>False</td>\n",
       "      <td>False</td>\n",
       "      <td>31</td>\n",
       "      <td>31</td>\n",
       "      <td>0</td>\n",
       "      <td>0</td>\n",
       "      <td>0.02</td>\n",
       "    </tr>\n",
       "    <tr>\n",
       "      <th>1</th>\n",
       "      <td>1</td>\n",
       "      <td>18674</td>\n",
       "      <td>https://www.airbnb.com/rooms/18674</td>\n",
       "      <td>20190917034823</td>\n",
       "      <td>2019-09-17</td>\n",
       "      <td>Huge flat for 8 people close to Sagrada Familia</td>\n",
       "      <td>110m2 apartment to rent in Barcelona. Located ...</td>\n",
       "      <td>Apartment with 110 m2 located in the 6th floor...</td>\n",
       "      <td>110m2 apartment to rent in Barcelona. Located ...</td>\n",
       "      <td>none</td>\n",
       "      <td>...</td>\n",
       "      <td>True</td>\n",
       "      <td>False</td>\n",
       "      <td>strict_14_with_grace_period</td>\n",
       "      <td>False</td>\n",
       "      <td>False</td>\n",
       "      <td>31</td>\n",
       "      <td>31</td>\n",
       "      <td>0</td>\n",
       "      <td>0</td>\n",
       "      <td>0.21</td>\n",
       "    </tr>\n",
       "    <tr>\n",
       "      <th>2</th>\n",
       "      <td>2</td>\n",
       "      <td>21605</td>\n",
       "      <td>https://www.airbnb.com/rooms/21605</td>\n",
       "      <td>20190917034823</td>\n",
       "      <td>2019-09-17</td>\n",
       "      <td>Nice and sunny duble room</td>\n",
       "      <td>The flat is in Poblenou district, and the room...</td>\n",
       "      <td>L'apartament està al barri de Poblenou, i l'ha...</td>\n",
       "      <td>The flat is in Poblenou district, and the room...</td>\n",
       "      <td>none</td>\n",
       "      <td>...</td>\n",
       "      <td>False</td>\n",
       "      <td>False</td>\n",
       "      <td>moderate</td>\n",
       "      <td>False</td>\n",
       "      <td>False</td>\n",
       "      <td>2</td>\n",
       "      <td>0</td>\n",
       "      <td>2</td>\n",
       "      <td>0</td>\n",
       "      <td>3.05</td>\n",
       "    </tr>\n",
       "    <tr>\n",
       "      <th>3</th>\n",
       "      <td>3</td>\n",
       "      <td>23197</td>\n",
       "      <td>https://www.airbnb.com/rooms/23197</td>\n",
       "      <td>20190917034823</td>\n",
       "      <td>2019-09-17</td>\n",
       "      <td>FORUM DELUXE 5 MINS WALK  CCIB CENTER &amp; SEA!</td>\n",
       "      <td>I do not accept groups of young people under 2...</td>\n",
       "      <td>Elegant spacious apartment suitable for 6. Amp...</td>\n",
       "      <td>I do not accept groups of young people under 2...</td>\n",
       "      <td>none</td>\n",
       "      <td>...</td>\n",
       "      <td>True</td>\n",
       "      <td>False</td>\n",
       "      <td>strict_14_with_grace_period</td>\n",
       "      <td>False</td>\n",
       "      <td>True</td>\n",
       "      <td>2</td>\n",
       "      <td>2</td>\n",
       "      <td>0</td>\n",
       "      <td>0</td>\n",
       "      <td>0.47</td>\n",
       "    </tr>\n",
       "    <tr>\n",
       "      <th>4</th>\n",
       "      <td>4</td>\n",
       "      <td>25786</td>\n",
       "      <td>https://www.airbnb.com/rooms/25786</td>\n",
       "      <td>20190917034823</td>\n",
       "      <td>2019-09-17</td>\n",
       "      <td>NICE ROOM AVAILABLE IN THE HEART OF GRACIA</td>\n",
       "      <td>JUST GO THROUGH THE MANY REVIEWS I GOT THROUGH...</td>\n",
       "      <td>Room available for rent.-  PEDRO PEREZ.  Share...</td>\n",
       "      <td>JUST GO THROUGH THE MANY REVIEWS I GOT THROUGH...</td>\n",
       "      <td>none</td>\n",
       "      <td>...</td>\n",
       "      <td>True</td>\n",
       "      <td>False</td>\n",
       "      <td>strict_14_with_grace_period</td>\n",
       "      <td>True</td>\n",
       "      <td>True</td>\n",
       "      <td>1</td>\n",
       "      <td>0</td>\n",
       "      <td>1</td>\n",
       "      <td>0</td>\n",
       "      <td>2.29</td>\n",
       "    </tr>\n",
       "  </tbody>\n",
       "</table>\n",
       "<p>5 rows × 107 columns</p>\n",
       "</div>"
      ],
      "text/plain": [
       "   Unnamed: 0     id                         listing_url       scrape_id  \\\n",
       "0           0  18666  https://www.airbnb.com/rooms/18666  20190917034823   \n",
       "1           1  18674  https://www.airbnb.com/rooms/18674  20190917034823   \n",
       "2           2  21605  https://www.airbnb.com/rooms/21605  20190917034823   \n",
       "3           3  23197  https://www.airbnb.com/rooms/23197  20190917034823   \n",
       "4           4  25786  https://www.airbnb.com/rooms/25786  20190917034823   \n",
       "\n",
       "  last_scraped                                             name  \\\n",
       "0   2019-09-17                          Flat with Sunny Terrace   \n",
       "1   2019-09-17  Huge flat for 8 people close to Sagrada Familia   \n",
       "2   2019-09-17                        Nice and sunny duble room   \n",
       "3   2019-09-17     FORUM DELUXE 5 MINS WALK  CCIB CENTER & SEA!   \n",
       "4   2019-09-17       NICE ROOM AVAILABLE IN THE HEART OF GRACIA   \n",
       "\n",
       "                                             summary  \\\n",
       "0  Apartment located near the \"Plaza de las Glori...   \n",
       "1  110m2 apartment to rent in Barcelona. Located ...   \n",
       "2  The flat is in Poblenou district, and the room...   \n",
       "3  I do not accept groups of young people under 2...   \n",
       "4  JUST GO THROUGH THE MANY REVIEWS I GOT THROUGH...   \n",
       "\n",
       "                                               space  \\\n",
       "0  Nice apartment situated on the penthouse floor...   \n",
       "1  Apartment with 110 m2 located in the 6th floor...   \n",
       "2  L'apartament està al barri de Poblenou, i l'ha...   \n",
       "3  Elegant spacious apartment suitable for 6. Amp...   \n",
       "4  Room available for rent.-  PEDRO PEREZ.  Share...   \n",
       "\n",
       "                                         description experiences_offered  ...  \\\n",
       "0  Apartment located near the \"Plaza de las Glori...                none  ...   \n",
       "1  110m2 apartment to rent in Barcelona. Located ...                none  ...   \n",
       "2  The flat is in Poblenou district, and the room...                none  ...   \n",
       "3  I do not accept groups of young people under 2...                none  ...   \n",
       "4  JUST GO THROUGH THE MANY REVIEWS I GOT THROUGH...                none  ...   \n",
       "\n",
       "  instant_bookable is_business_travel_ready          cancellation_policy  \\\n",
       "0            False                    False                     flexible   \n",
       "1             True                    False  strict_14_with_grace_period   \n",
       "2            False                    False                     moderate   \n",
       "3             True                    False  strict_14_with_grace_period   \n",
       "4             True                    False  strict_14_with_grace_period   \n",
       "\n",
       "  require_guest_profile_picture require_guest_phone_verification  \\\n",
       "0                         False                            False   \n",
       "1                         False                            False   \n",
       "2                         False                            False   \n",
       "3                         False                             True   \n",
       "4                          True                             True   \n",
       "\n",
       "  calculated_host_listings_count  calculated_host_listings_count_entire_homes  \\\n",
       "0                             31                                           31   \n",
       "1                             31                                           31   \n",
       "2                              2                                            0   \n",
       "3                              2                                            2   \n",
       "4                              1                                            0   \n",
       "\n",
       "   calculated_host_listings_count_private_rooms  \\\n",
       "0                                             0   \n",
       "1                                             0   \n",
       "2                                             2   \n",
       "3                                             0   \n",
       "4                                             1   \n",
       "\n",
       "  calculated_host_listings_count_shared_rooms  reviews_per_month  \n",
       "0                                           0               0.02  \n",
       "1                                           0               0.21  \n",
       "2                                           0               3.05  \n",
       "3                                           0               0.47  \n",
       "4                                           0               2.29  \n",
       "\n",
       "[5 rows x 107 columns]"
      ]
     },
     "metadata": {},
     "output_type": "display_data"
    }
   ],
   "source": [
    "if __name__ == '__main__':\n",
    "    display(df_airbnb.head())"
   ]
  },
  {
   "cell_type": "markdown",
   "metadata": {},
   "source": [
    "### Bag-of-words\n",
    "\n",
    "Per tal de poder treballar amb text haurem de crear un vector que representi allò que hi està escrit.\n",
    "Aquesta idea s'anomena **bag-of-words** i és una representació simplificadora que s’utilitza en el processament de llenguatges naturals i la recuperació d’informació (IR). \n",
    "En aquest model, un text (com una frase o un document) es representa com la bossa (multiset) de les seves paraules, prescindint de la gramàtica i fins i tot de l'ordre de les paraules, però mantenint la multiplicitat. \n",
    "\n",
    "Aquest s’utilitza habitualment en mètodes de classificació o regressió de documents on l’ocurrència (freqüència de) de cada paraula s’utilitza com a característica per entrenar un predictor.\n",
    "\n",
    "**PipeLine:**\n",
    "\n",
    "```Python\n",
    "text = 'Apartment located near the \"Plaza de las Glorias\". Great apartament in Barcelona', ...\n",
    "```\n",
    "Un cop tinguem les nostres dades, hem de passar pel procés de neteja. Per als conjunts de dades de text en general, això inclou sovint:\n",
    "- Eliminació de la puntuació.\n",
    "- Eliminació de les paraules d'aturada, en anglès *stopword*, (coses com \"el\", \"això\", \"què\").\n",
    "- Stemming / lematization (reduir les paraules a la seva forma base eliminant sufixos com \"-ed\", \"-ing\", plurals...) (MÉS AVANÇAT).\n",
    "\n",
    "A més, el tracte de text i comentaris en línia requereix una eliminació addicional d’elements com hiperenllaços, noms d’usuari i missatges automatitzats (el comentari més comú en aquest conjunt de dades era un missatge de benvinguda de Wikipedia per als nous usuaris).\n",
    "\n",
    "```Python\n",
    "# Tokenització\n",
    "tok = [['apartment', 'located', 'near', 'the', 'plaza', 'de', 'las', 'glorias', 'great', 'apartament', 'in', 'barcelona'], ... ]\n",
    "\n",
    "# Paraules Comuns (Suposem 3)\n",
    "com = ['apartament', 'Barcelona', 'airport']\n",
    "```\n",
    "\n",
    "Per convertir les paraules en quelcom que un algorisme d’aprenentatge automàtic pugui comprendre i processar, hem de vectoritzar. En poques paraules, aquest és el procés de convertir les paraules en vectors multidimensionals de tal manera que el significat o el context de la paraula es correlaciona amb aquest vector. En cert sentit, la vectorització permet als ordinadors quantificar el significat de les paraules mapant significats de paraules similars a espais vectorials similars.\n",
    "\n",
    "```Python\n",
    "# Vector de característiques\n",
    "feats = [\n",
    "    np.array([1, 1, 0]), # els 1 representes que la paraula està a la frase i els 0 que no.\n",
    "    ...\n",
    "]\n",
    "```"
   ]
  },
  {
   "cell_type": "code",
   "execution_count": 72,
   "metadata": {},
   "outputs": [
    {
     "name": "stderr",
     "output_type": "stream",
     "text": [
      "[nltk_data] Downloading package punkt to /home/guillem/nltk_data...\n",
      "[nltk_data]   Package punkt is already up-to-date!\n",
      "[nltk_data] Downloading package stopwords to\n",
      "[nltk_data]     /home/guillem/nltk_data...\n",
      "[nltk_data]   Package stopwords is already up-to-date!\n"
     ]
    }
   ],
   "source": [
    "from nltk.corpus import stopwords \n",
    "from nltk.tokenize import word_tokenize \n",
    "import string\n",
    "import nltk\n",
    "nltk.download('punkt')\n",
    "nltk.download('stopwords')\n",
    "\n",
    "def tokenize(df):\n",
    "    \"\"\"\n",
    "    Funció que donat el dataframe amb les dades d'Airbnb retorna\n",
    "    una llista de llistes on cada subllista conté les paraules\n",
    "    tokenitzades del text extret de la columna \"summary\".\n",
    "    \n",
    "    Per facilitar la feina de la tokenització podeu utilizar les stopwords \n",
    "    que venen amb la llibreria nltk i la funció word_tokenize.\n",
    "    \n",
    "    :param df: DataFrame que conté el dataset\n",
    "    :return : Llista de llistes amb la informació indicada\n",
    "    \"\"\"\n",
    "    summary_words = df[\"summary\"].tolist()\n",
    "    tokens = []\n",
    "    stopWordsEng = set(stopwords.words('english'))\n",
    "    stopWordsSp = set(stopwords.words('spanish'))\n",
    "    for sentence in summary_words:\n",
    "        for word in word_tokenize(sentence):\n",
    "            if word.lower() not in stopWordsEng and word not in stopWordsSp and word not in string.punctuation:\n",
    "                tokens.append(word.lower())\n",
    "    return(tokens)    \n",
    "    \n",
    "tokens = tokenize(df_airbnb)"
   ]
  },
  {
   "cell_type": "markdown",
   "metadata": {},
   "source": [
    "<div style='background: #FCD02C; color: #333; padding: 20px; border-radius: 5px;'>\n",
    "    <div style='float: right; font-weight: bold;'>1/1</div>\n",
    "    Correcte\n",
    "</div>"
   ]
  },
  {
   "cell_type": "code",
   "execution_count": null,
   "metadata": {},
   "outputs": [],
   "source": [
    "def most_common(tokens, n):\n",
    "    \"\"\"\n",
    "    Funció que retorna les n parales més frequents a partir dels tokens\n",
    "    \n",
    "    :param tokens: Tokens obtinguts amb `tokenize`\n",
    "    :param n: Int, nombre d'elements que es demanen retornar\n",
    "    :return: Llista amb el top n elements\n",
    "    \"\"\"\n",
    "    word_counter = {}\n",
    "    for word in tokens:\n",
    "        if word in word_counter:\n",
    "            word_counter[word] += 1\n",
    "        else:\n",
    "            word_counter[word] = 1\n",
    "\n",
    "    popular_words = sorted(word_counter, key = word_counter.get, reverse = True)\n",
    "    \n",
    "    return popular_words[:n]\n"
   ]
  },
  {
   "cell_type": "markdown",
   "metadata": {},
   "source": [
    "<div style='background: #FCD02C; color: #333; padding: 20px; border-radius: 5px;'>\n",
    "    <div style='float: right; font-weight: bold;'>1/1</div>\n",
    "    Correcte\n",
    "</div>"
   ]
  },
  {
   "cell_type": "code",
   "execution_count": null,
   "metadata": {},
   "outputs": [],
   "source": [
    "def get_features(df, tokens, most_common_tokens):\n",
    "    \"\"\"\n",
    "    Funció que retorna un vector de 0 i 1 per cadascuna de les entrades del dataset,\n",
    "    en funció de si les paraules comunes es troben o no entre els tokens.\n",
    "    \n",
    "    Per a cada dada, mirarem si quines de les paraules comunes apareixen entre els tokens,\n",
    "    posant un 1 a les que sí i un 0 a les que no.\n",
    "    \n",
    "    Cada dada tindrà, a més dels 0/1 corresponents a les N paraules més comunes, una columna\n",
    "    més, corresponent a la columna 'require_guest_phone_verification' de 'df'. Per tant,\n",
    "    el retorn per cada dada serà\n",
    "    [0, 1, .........., 0,         1         ]\n",
    "    |N tokens més comuns, columna addicional|\n",
    "    \n",
    "    *Únicament es permeten bucles pel càlcul dels 0/1s dels tokens*\n",
    "    \n",
    "    :param df: DataFrame que conté el dataset\n",
    "    :param tokens: Tokens per cada entrada del dataset\n",
    "    :param most_common_tokens: N tokens més comuns\n",
    "    :return : Matriu de característiques de cada entrada del dataset, incloent els\n",
    "        0/1s dels tokens i la columna 'require_guest_phone_verification'\n",
    "    \"\"\"\n",
    "    num_summaries = len(df[\"summary\"].tolist())\n",
    "    num_features = len(most_common_tokens)\n",
    "    features = []\n",
    "    \n",
    "    for i in range(num_summaries):\n",
    "        summary_n = []\n",
    "        current_t = tokenize(df[i:i+1])\n",
    "        summary_n = [1 if most_common_tokens[j] in current_t else 0 for j in range(num_features)]     \n",
    "        if df[\"require_guest_phone_verification\"][i]:\n",
    "            summary_n.append(1)\n",
    "        else:\n",
    "            summary_n.append(0)\n",
    "        features.append(np.array(summary_n))\n",
    "    return np.array(features)\n",
    "            \n",
    "    \n",
    "    "
   ]
  },
  {
   "cell_type": "markdown",
   "metadata": {},
   "source": [
    "<div style='background: #FCD02C; color: #333; padding: 20px; border-radius: 5px;'>\n",
    "    <div style='float: right; font-weight: bold;'>1/2</div>\n",
    "    Es demanava que la columna phone estés fora del bucle\n",
    "</div>"
   ]
  },
  {
   "cell_type": "markdown",
   "metadata": {},
   "source": [
    "El resultat serà un *np.array* (no necessàriament amb aquest valors):\n",
    "\n",
    "```python\n",
    "np.array([\n",
    "    np.array([0, 1, 1, 0, ...]), # 1r Summary\n",
    "    np.array([0, 1, 1, 1, ...]), # 2n Summary\n",
    "    ...\n",
    "])\n",
    "```"
   ]
  },
  {
   "cell_type": "markdown",
   "metadata": {},
   "source": [
    "### Partició de dades\n",
    "\n",
    "En l'aprenentatge automàtic, una tasca habitual és l'estudi i la construcció d'algorismes que poden aprendre i fer prediccions sobre dades. Aquests algoritmes funcionen fent prediccions o decisions basades en dades, mitjançant la creació d'un model matemàtic a partir de dades d'entrada.\n",
    "\n",
    "Les dades que s’utilitzen per construir el model final normalment provenen de múltiples conjunts de dades. En particular, dos conjunts de dades s’utilitzen habitualment en diferents etapes de la creació del model: dades d'entrenament (train) i de prova (test).\n",
    "\n",
    "El model s’adapta inicialment a un conjunt de dades d’entrenament, que és un conjunt d’exemples que s’utilitzen per ajustar els paràmetres (per exemple, pesos del model de regressió linal) del model. \n",
    "El model es forma en el **conjunt de dades d’entrenament** que sovint consisteix en parells d’un vector d’entrada (o escalar) i el vector de sortida corresponent (o escalar), que es denomina habitualment com a objectiu (o etiqueta). El model actual s'executa amb el conjunt de dades d'entrenament i produeix un resultat, que es compara després amb l'objectiu, per a cada vector d'entrada del conjunt de dades d'entrenament. A partir del resultat de la comparació i de l'algorisme d'aprenentatge específic que s'utilitza, s'ajusten els paràmetres del model. L'adaptació del model pot incloure selecció de variables i estimació de paràmetres.\n",
    "\n",
    "El **conjunt de dades de prova** és un conjunt de dades utilitzat per proporcionar una avaluació imparcial d’un model. Si les dades de prova no s’han utilitzat mai durant l'entrenament, el resultats representa el comportament esperat del model.\n",
    "\n",
    "A continuació heu d'implementar la funció *split* que crea aquesta partició de dades."
   ]
  },
  {
   "cell_type": "code",
   "execution_count": null,
   "metadata": {},
   "outputs": [],
   "source": [
    "def split(X, Y, train_percent, random_seed=None):\n",
    "    \"\"\"\n",
    "    Divideix el conjunt de dades en dos subconjunts aleatoris diferents, sense\n",
    "    intersecció.\n",
    "    La divisió es fa conjuntament en X i Y, és a dir, donat una dada x de X,\n",
    "    la seva corresponent y en Y es troba en el mateix conjunt\n",
    "    X = [[1, 2, 3], [2, 3, 1], ..., [1, 4, 5]]\n",
    "    Y = [1, 2, ..., 5]\n",
    "    \n",
    "    Train: X = [[1, 2, 3], [1, 4, 5]]; Y = [1, 5]\n",
    "    Test:  X = [[2, 3, 1]]; Y = [2]\n",
    "    \n",
    "    :param X: Dades del model\n",
    "    :param Y: Corresponents valors a predir\n",
    "    :param train_percent: Percentatge entre 0 i 1, indicant el nombre\n",
    "        d'elements que contindrà el conjunt de train\n",
    "    :param random_seed: En cas de que sigui necessari (no és obligatori fer-ho servir), \n",
    "        per fixar el comporament de random\n",
    "    :return: Una llista/tupla que contingui, en aquest ordre, \n",
    "        * Conjunt train X [NDadesTrain, NFeatures]\n",
    "        * Conjunt test X [NDadesTest, NFeatures]\n",
    "        * Conjunt train Y [NDadesTrain]\n",
    "        * Conjunt test Y [NDadesTest]\n",
    "    \"\"\"\n",
    "    Ndadestrain,NFeatures = int(len(X)*train_percent),len(X[0])\n",
    "    #Ndadestest = len(X)-Ndadestrain\n",
    "    train_x,test_x,train_y,test_y = [],[],[],[]\n",
    "    \n",
    "    idx_train = np.random.choice(X.shape[0], Ndadestrain, replace=False)\n",
    "    idx_test = [i for i in range(len(X)) if i not in idx_train]\n",
    "    \n",
    "    train_x = X[idx_train]\n",
    "    test_x = [X[i] for i in idx_test]\n",
    "    \n",
    "    train_y = np.array([Y[i] for i in idx_train])\n",
    "    test_y = np.array([Y[i] for i in idx_test])\n",
    "    \n",
    "    return train_x,test_x,train_y,test_y\n",
    "    \n",
    "        \n",
    "        \n",
    "    \n",
    "    \n",
    "    "
   ]
  },
  {
   "cell_type": "markdown",
   "metadata": {},
   "source": [
    "<div style='background: #FCD02C; color: #333; padding: 20px; border-radius: 5px;'>\n",
    "    <div style='float: right; font-weight: bold;'>2/2</div>\n",
    "    Correcte\n",
    "</div>"
   ]
  },
  {
   "cell_type": "markdown",
   "metadata": {},
   "source": [
    "Abans de generar els conjunts d'entrenament i prova cal generar els vectors que representen cada entrada de les dades."
   ]
  },
  {
   "cell_type": "code",
   "execution_count": null,
   "metadata": {},
   "outputs": [],
   "source": [
    "if __name__ == '__main__':\n",
    "    tok = tokenize(df_airbnb)\n",
    "    com = most_common(tok, 100)\n",
    "    feats = get_features(df_airbnb, tok, com)"
   ]
  },
  {
   "cell_type": "code",
   "execution_count": null,
   "metadata": {},
   "outputs": [],
   "source": [
    "if __name__ == '__main__':\n",
    "    # Valors amb els que predirem el preu de la vivenda\n",
    "    X = add_bias(feats)\n",
    "\n",
    "    # Valors reals de la vivenda\n",
    "    Y = df_airbnb['price'].values\n",
    "\n",
    "    # Partim en train i test\n",
    "    X_train, X_test, Y_train, Y_test = split(X, Y, train_percent=0.80)\n",
    "    "
   ]
  },
  {
   "cell_type": "code",
   "execution_count": null,
   "metadata": {},
   "outputs": [],
   "source": [
    "if __name__ == '__main__':\n",
    "    # Parametres per defecte del model\n",
    "    w0 = np.random.normal(size=(1, X.shape[1]))\n",
    "\n",
    "    # Optimització del model sobre train\n",
    "    wf = gradient_descend(lambda w: model(w, X_train, Y_train), w0, 0.01, max_iter=5000, print_iters=100) # ~ @2min\n",
    "\n",
    "    # Realitzem la predicció sobre test\n",
    "    y_pred = linear_regression(X_test, wf)"
   ]
  },
  {
   "cell_type": "code",
   "execution_count": null,
   "metadata": {},
   "outputs": [],
   "source": [
    "if __name__ == '__main__':\n",
    "    # Mostrem únicament 100 dades en el gràfic\n",
    "    size = 100\n",
    "    sample = np.random.choice(np.array(X_test).shape[0], size=size, replace=False)\n",
    "\n",
    "    # Mínima i màxima Y a mostrar en el gràfic\n",
    "    miny = np.minimum(y_pred[sample].min(), Y_test[sample].min()) - 10\n",
    "    maxy = np.maximum(y_pred[sample].max(), Y_test[sample].max()) + 1e3\n",
    "\n",
    "    # Visualització de les dades originals i les prediccions\n",
    "    plt.figure(figsize=(20, 3))\n",
    "    plt.scatter(range(size), Y_test[sample], color='green', label = 'price')\n",
    "    plt.scatter(range(size), y_pred[sample], color='red', label = 'pred_price')\n",
    "    plt.xlabel('100 random samples')\n",
    "    plt.ylabel('Total population (log scale)')\n",
    "    plt.yscale('symlog')\n",
    "    plt.ylim([miny, maxy])\n",
    "    plt.grid(axis='y', which='minor', alpha=0.2)\n",
    "    plt.grid(axis='y', which='major', alpha=0.3)\n",
    "    plt.legend()\n",
    "\n",
    "    for x in range(size):\n",
    "        plt.plot((x, x), (miny, maxy), '-.', color='gray', alpha=0.2)\n",
    "\n",
    "    print('Mean error: {:.2f}'.format(np.mean(np.abs(Y_test - y_pred))))"
   ]
  },
  {
   "cell_type": "markdown",
   "metadata": {},
   "source": [
    "# Millores i Kaggle\n",
    "\n",
    "### ** Dels següents punts és obligatori implementar-ne dos per la pràctica, fes-ho en noves cel·les al final del notebook, no modifiquis les anteriors.**\n",
    "#### **Per Kaggle pots duplicar el notebook i implementar tants punts com vulguis.**\n",
    "\n",
    "Cap de les implementacions que facis pot modificar la regressió lineal en sí mateixa (la funció `linear_regression`) de forma que:\n",
    "\n",
    "* Tingui més paràmetres que la $w$ ja existent\n",
    "* Afegeixi més complexitat al model\n",
    "\n",
    "Dit això, es proposa:\n",
    "\n",
    "1. Donat el tipus de dades, té sentit que la regressió lineal dongui nombres negatius? Compta si decideixes controlar-ho a nivell de la fòrmula de la regressió (vs a nivell dels valors predits), potser el model tendirà a modelar els outliers (valors fora del normal/mitja/distribució) enlloc dels elements representatius.\n",
    "\n",
    "* Tokenitza i busca tokens més comuns no solament a `summary`, sinó també a les altres columnes que contenen text.\n",
    "\n",
    "* Afegeix més features al vector X. El model s'entrena amb les característiques extretes de la columna `summary` i `require_guest_phone_verification`, però perque no fer-ne servir més?\n",
    "> Tingues en compte que no pots agafar cap de les columnes de preu (`price`, `weekly_price`, `monthly_price`, `security_deposit`, `cleaning_fee` i `extra_people`), ja que en les dades de Kaggle no està disponible\n",
    "\n",
    "* Segons quines dades agafis, és possible que els valors de la característiquis siguin molt dispars. Per exemple, una columna pot tenir de màxim 1 però una altra podria tenir 1000. Normalitza aquests valors de forma que tots tinguin el mateix màxim i mínim. Pots normalitzar també el vector a predir Y, sempre i quan ho tinguis en compte en les noves prediccions.\n",
    "\n",
    "* La regressió lineal, com el nom indica, és un model lineal, i per tant està limitat amb el tipus de dades que pot representar. Per exemple, generalment, no pot modelar adequadament dades exponencials, logarístimiques, quadràtiques, etc. Això, però, es pot mitigar mitjançant les característiques que es passen al model. Per exemple, si l'entrada és $x$, podríem ampliar aquesta entrada a $(x, x^2)$, on la segona part és simplement cada una de les característiques al quadrat. D'igual forma, podríem ampliar indefinidament $(x, x^2, log(x), e^x, ...)$, però evidentment el cost computacional i el temps d'entrenament creixen, i la millora cada cop és més marginal, si n'hi ha.\n",
    "\n",
    "* Filtra les dades per evitar utilitzar outliers, de forma que no afectin en l'entrenament.\n",
    "\n",
    "* Fes una millor selecció de tokens, ens interessen totes les paraules? Tot i que no siguin stopwords, volem tots els números, símbols, etc.?\n",
    "\n",
    "* Per regressió es poden triar múltiples funcions d'error. Aquí estem fent simplement la distància euclidea, però es pot estudiar l'ús d'altres com: Mean Squared Error, Mean Absolute Error, Huber Loss, d'entre altres. Algunes d'elles són més robustes contra outliers, d'altres més sensibles.\n",
    "\n",
    "* Els paràmetres inicials es trien random segons una distribució normal $N(0, 1)$, són adequats donats els valors de les característiques i de l'output que esperem? Normalitzar tant $X$ com $Y$ pot ajudar a que ho siguin, en cas que no ho facis, aquests valors poden allargar/dificultar el procés.\n",
    "\n",
    "* Selecciona un nombre diferent de tokens més comuns. Inicialment utilitzem 100, són masses/pocs? Compte amb el cost computacional.\n",
    "\n",
    "* Hem utilitzat la forma binomial de bag of words, és a dir 0 o 1, però es podria mirar si implementar la multinomial (0-n, on n és el nombre d'aparicions), ajuda en l'entrenament.\n",
    "\n",
    "* Bag of words és una forma bastant naive de tractar el text. Una millora, que no implica grans canvis en el codi, és implementar TF-IDF.\n",
    "\n",
    "* A part d'intentar trobar una alpha òptima (en el sentit de temps inverit vs distància moguda), pots implementar una que aquest pas decaigui amb el temps. Per exemple, pots implementar una caiguda exponencial. Sigui $\\alpha_0$ el pas inicial, $it$ la iteració actual, $0 < \\beta < 1$ la caiguda que realitza i $\\gamma > 0$ el nombre d'iteracions cada quan s'aplica\n",
    "$$\\alpha = \\alpha_0 \\cdot \\beta ^ {\\frac{it}{\\gamma}}$$\n",
    "El plot mostra el comportament al llarg de les iteracions. Aplicant una divisó entera enlloc de flotant, es pot aconseguir un efecte \"escala\" enlloc de continu."
   ]
  },
  {
   "cell_type": "code",
   "execution_count": null,
   "metadata": {},
   "outputs": [],
   "source": [
    "if __name__ == '__main__':\n",
    "    alpha_0 = 1\n",
    "    beta = 0.95\n",
    "    gamma = 10000\n",
    "\n",
    "    iters = np.arange(1e6)\n",
    "    plt.figure(figsize=(20, 3))\n",
    "    plt.plot(iters, alpha_0 * beta ** (iters / gamma), color='b')\n",
    "    plt.plot(iters, alpha_0 * beta ** (iters // gamma), color='orange')"
   ]
  },
  {
   "cell_type": "markdown",
   "metadata": {},
   "source": [
    "### Codi per Kaggle\n",
    "\n",
    "Suposant que has trobat un model adequat a partir del teu split train/test, ara s'entrena un model igual (modifica el codi apropiadament) amb totes les dades.\n",
    "\n",
    "Amb aquest model final, es prediu sobre el conjunt de dades de Kaggle i es guarda el resultat. Tingueu en compte que el resultat que us mostrarà Kaggle és **sobre un 30% de les totes les dades que envieu**. Si baseu tot el model en els nombres que us digui Kaggle, estareu cometent un greu error, doncs no generalitzarà al 70% restant. Per trobar el millor model i provar les diferents millores, utilitzeu el vostre split train/test.\n",
    "\n",
    "https://www.kaggle.com/t/e5f6d1562dea41e68a53af9627646552"
   ]
  },
  {
   "cell_type": "code",
   "execution_count": null,
   "metadata": {},
   "outputs": [],
   "source": [
    "if __name__ == '__main__':\n",
    "    # Obtenim les features de les dades de Kaggle\n",
    "    df_kaggle = open_airbnb_data('data_kaggle')\n",
    "    \n",
    "    # Tokenitzem, agafant els més comuns que hem trobat abans\n",
    "    tok_kaggle = tokenize(df_kaggle)\n",
    "    feats_kaggle = get_features(df_kaggle, tok_kaggle, com)\n",
    "    \n",
    "    # Valors amb els que predirem el preu de la vivenda\n",
    "    X_kaggle = add_bias(feats_kaggle)"
   ]
  },
  {
   "cell_type": "code",
   "execution_count": null,
   "metadata": {},
   "outputs": [],
   "source": [
    "if __name__ == '__main__':    \n",
    "    # Entrenem el model, però ara amb totes les dades\n",
    "    # Modifica, si cal, per tal d'utilitzar les millores que hagis implementat\n",
    "    w0 = np.random.normal(size=(1, X.shape[1]))\n",
    "    wf_kaggle = gradient_descend_exponential_alpha(lambda w: model(w, X, Y), w0, 0.01, 0.5, 1000, max_iter=5000, print_iters=100)    \n",
    "\n",
    "    # Efectuem la predicció i guardem el resultat\n",
    "    y_pred_test = linear_regression(X_kaggle, wf_kaggle)\n",
    "    df_kaggle['pred_price'] = y_pred_test\n",
    "    df_kaggle[['id', 'pred_price']].to_csv('submission.csv', index=None)"
   ]
  },
  {
   "cell_type": "markdown",
   "metadata": {},
   "source": [
    "### Implementa a continuació dos dels punts anteriors\n",
    "\n",
    "Copia, si fes falta, les funcions que necessitis i canvia'ls-hi el nom"
   ]
  },
  {
   "cell_type": "markdown",
   "metadata": {},
   "source": [
    "Codi de la implementació de millores 13"
   ]
  },
  {
   "cell_type": "markdown",
   "metadata": {},
   "source": [
    "<div style='background: #FCD02C; color: #333; padding: 20px; border-radius: 5px;'>\n",
    "    <div style='float: right; font-weight: bold;'>2/2</div>\n",
    "    Correcte\n",
    "</div>"
   ]
  },
  {
   "cell_type": "code",
   "execution_count": null,
   "metadata": {},
   "outputs": [],
   "source": [
    "def gradient_descend_exponential_alpha(f, x0, alpha, beta, y, eps=1e-6, max_iter=1000, print_iters=1000):\n",
    "    \n",
    "    dim = len(x0)\n",
    "    x = [9999 for i in range(dim)]\n",
    "    it = 0\n",
    "    alpha_exp = alpha\n",
    "    grad_f = value_and_grad(f)\n",
    "    while(it != max_iter and np.linalg.norm(x-x0) > eps):\n",
    "        it += 1\n",
    "        x = x0\n",
    "        value,grad = grad_f(x0)\n",
    "        x0 = x0 - alpha_exp * grad/np.linalg.norm(grad)\n",
    "        if(it % y == 0):\n",
    "            alpha_exp = alpha * pow(beta, it/y)\n",
    "        if(it != print_iters):\n",
    "            print(\"{}/{:.7f}\".format(human_format(it), float(value)), alpha_exp)\n",
    "    return x0"
   ]
  },
  {
   "cell_type": "code",
   "execution_count": null,
   "metadata": {},
   "outputs": [],
   "source": [
    "if __name__ == '__main__':\n",
    "    x0 = np.array([4.0])\n",
    "    xm = gradient_descend_exponential_alpha(f1, x0, 0.01,0.5,1000, 1e-6, 10000) # ~ @1s\n",
    "    print(f'f1({xm}) = {f1(xm)}')"
   ]
  },
  {
   "cell_type": "markdown",
   "metadata": {},
   "source": [
    "Codi de la implementació de millores 2"
   ]
  },
  {
   "cell_type": "code",
   "execution_count": null,
   "metadata": {},
   "outputs": [],
   "source": [
    "from nltk.corpus import stopwords \n",
    "from nltk.tokenize import word_tokenize \n",
    "import string\n",
    "import nltk\n",
    "nltk.download('punkt')\n",
    "nltk.download('stopwords')\n",
    "\n",
    "def tokenize_airbnb_text_columns(df):\n",
    "    words = []\n",
    "    column_titles = []\n",
    "    words.append([df[\"summary\"].tolist()])\n",
    "    column_titles.append(\"Summary\")\n",
    "    words.append([df[\"name\"].tolist()])\n",
    "    column_titles.append(\"Name\")\n",
    "    words.append([df[\"space\"].tolist()])\n",
    "    column_titles.append(\"Space\")\n",
    "    words.append([df[\"description\"].tolist()])\n",
    "    column_titles.append(\"Description\")\n",
    "    tokens_by_column = []\n",
    "    stopWordsEng = set(stopwords.words('english'))\n",
    "    stopWordsSp = set(stopwords.words('spanish'))\n",
    "    for column in words:\n",
    "        tokens = []\n",
    "        for sentence in column:\n",
    "            for word in word_tokenize(str(sentence)):\n",
    "                if word.lower() not in stopWordsEng and word not in stopWordsSp and word not in string.punctuation:\n",
    "                    tokens.append(word.lower())\n",
    "        tokens_by_column.append(tokens)\n",
    "    return(tokens_by_column, column_titles)    \n",
    "    "
   ]
  },
  {
   "cell_type": "code",
   "execution_count": null,
   "metadata": {},
   "outputs": [],
   "source": [
    "def most_common_in_airbnb_text_columns(df, n):\n",
    "    tokens, column_titles = tokenize_airbnb_text_columns(df)\n",
    "    common_words = []\n",
    "    i = 0\n",
    "    for column in tokens:\n",
    "        #common_words.append(column_titles[i])\n",
    "        common_words.append([column_titles[i] + \":\", most_common(column, n)])\n",
    "        i+= 1\n",
    "    return common_words"
   ]
  },
  {
   "cell_type": "code",
   "execution_count": null,
   "metadata": {},
   "outputs": [],
   "source": [
    "most_common_in_airbnb_text_columns(df_airbnb, 5)"
   ]
  },
  {
   "cell_type": "code",
   "execution_count": null,
   "metadata": {},
   "outputs": [],
   "source": []
  }
 ],
 "metadata": {
  "kernelspec": {
   "display_name": "Python 3",
   "language": "python",
   "name": "python3"
  },
  "language_info": {
   "codemirror_mode": {
    "name": "ipython",
    "version": 3
   },
   "file_extension": ".py",
   "mimetype": "text/x-python",
   "name": "python",
   "nbconvert_exporter": "python",
   "pygments_lexer": "ipython3",
   "version": "3.7.0"
  }
 },
 "nbformat": 4,
 "nbformat_minor": 2
}
